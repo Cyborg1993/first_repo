{
 "cells": [
  {
   "cell_type": "code",
   "execution_count": 2,
   "id": "f5ee1fe8-cd48-48ce-9589-5cf4ad1d1421",
   "metadata": {},
   "outputs": [
    {
     "name": "stdout",
     "output_type": "stream",
     "text": [
      "Requirement already satisfied: nltk in /opt/anaconda3/lib/python3.12/site-packages (3.8.1)\n",
      "Requirement already satisfied: click in /opt/anaconda3/lib/python3.12/site-packages (from nltk) (8.1.7)\n",
      "Requirement already satisfied: joblib in /opt/anaconda3/lib/python3.12/site-packages (from nltk) (1.4.2)\n",
      "Requirement already satisfied: regex>=2021.8.3 in /opt/anaconda3/lib/python3.12/site-packages (from nltk) (2023.10.3)\n",
      "Requirement already satisfied: tqdm in /opt/anaconda3/lib/python3.12/site-packages (from nltk) (4.66.4)\n",
      "\n",
      "\u001b[1m[\u001b[0m\u001b[34;49mnotice\u001b[0m\u001b[1;39;49m]\u001b[0m\u001b[39;49m A new release of pip is available: \u001b[0m\u001b[31;49m24.2\u001b[0m\u001b[39;49m -> \u001b[0m\u001b[32;49m24.3.1\u001b[0m\n",
      "\u001b[1m[\u001b[0m\u001b[34;49mnotice\u001b[0m\u001b[1;39;49m]\u001b[0m\u001b[39;49m To update, run: \u001b[0m\u001b[32;49mpip install --upgrade pip\u001b[0m\n",
      "Note: you may need to restart the kernel to use updated packages.\n"
     ]
    }
   ],
   "source": [
    "pip install nltk"
   ]
  },
  {
   "cell_type": "markdown",
   "id": "385530a7-40a7-45cf-8cef-c9364326b2de",
   "metadata": {},
   "source": [
    "# Tokenization"
   ]
  },
  {
   "cell_type": "code",
   "execution_count": 23,
   "id": "84eedcd8-c8b4-44cd-abdd-759d58def7a0",
   "metadata": {},
   "outputs": [
    {
     "name": "stderr",
     "output_type": "stream",
     "text": [
      "[nltk_data] Downloading package punkt to\n",
      "[nltk_data]     /Users/sanjayfartyal/nltk_data...\n",
      "[nltk_data]   Unzipping tokenizers/punkt.zip.\n"
     ]
    },
    {
     "data": {
      "text/plain": [
       "True"
      ]
     },
     "execution_count": 23,
     "metadata": {},
     "output_type": "execute_result"
    }
   ],
   "source": [
    "import nltk\n",
    "nltk.download('punkt')  # This line downloads the 'punkt' resource"
   ]
  },
  {
   "cell_type": "code",
   "execution_count": 55,
   "id": "d62d86b5-84ea-4ed8-8f34-bd7d7bd1e09f",
   "metadata": {},
   "outputs": [],
   "source": [
    "corpus= ''' Hello welcome to sanjay fartyal's youtube channel. \n",
    "Here we will learn about devil. \n",
    "Please like share and subscribe.\n",
    "'''"
   ]
  },
  {
   "cell_type": "code",
   "execution_count": 25,
   "id": "e994d0e3-3a81-419a-b855-a7cf5685e570",
   "metadata": {},
   "outputs": [
    {
     "name": "stdout",
     "output_type": "stream",
     "text": [
      " Hello welcome to sanjay fartyal's youtube channel. \n",
      "Here we will learn about devil. \n",
      "Please like share and subscribe\n",
      "\n"
     ]
    }
   ],
   "source": [
    "print(corpus)"
   ]
  },
  {
   "cell_type": "code",
   "execution_count": 26,
   "id": "9a508158-4c55-4e8d-ac3c-de929ed33bbd",
   "metadata": {},
   "outputs": [],
   "source": [
    "# Tokenization\n",
    "## Convert sentence into paragraph"
   ]
  },
  {
   "cell_type": "code",
   "execution_count": 27,
   "id": "a8640c58-2a4b-4d56-ae09-6d4debfa19f8",
   "metadata": {},
   "outputs": [],
   "source": [
    "from nltk.tokenize import sent_tokenize, word_tokenize"
   ]
  },
  {
   "cell_type": "code",
   "execution_count": 28,
   "id": "b09d69d2-8532-45cc-99f8-40f39be37d66",
   "metadata": {},
   "outputs": [
    {
     "data": {
      "text/plain": [
       "['Hello',\n",
       " 'welcome',\n",
       " 'to',\n",
       " 'sanjay',\n",
       " 'fartyal',\n",
       " \"'s\",\n",
       " 'youtube',\n",
       " 'channel',\n",
       " '.',\n",
       " 'Here',\n",
       " 'we',\n",
       " 'will',\n",
       " 'learn',\n",
       " 'about',\n",
       " 'devil',\n",
       " '.',\n",
       " 'Please',\n",
       " 'like',\n",
       " 'share',\n",
       " 'and',\n",
       " 'subscribe']"
      ]
     },
     "execution_count": 28,
     "metadata": {},
     "output_type": "execute_result"
    }
   ],
   "source": [
    "word_tokenize(corpus)"
   ]
  },
  {
   "cell_type": "code",
   "execution_count": 37,
   "id": "e1601d97-a86d-4c61-86ab-ac3c7820ca8a",
   "metadata": {},
   "outputs": [],
   "source": [
    "document= sent_tokenize(corpus)"
   ]
  },
  {
   "cell_type": "code",
   "execution_count": 41,
   "id": "214a3998-7526-402f-99d7-e02aa2c0718d",
   "metadata": {},
   "outputs": [
    {
     "name": "stdout",
     "output_type": "stream",
     "text": [
      "['Hello', 'welcome', 'to', 'sanjay', 'fartyal', \"'s\", 'youtube', 'channel', '.']\n",
      "['Here', 'we', 'will', 'learn', 'about', 'devil', '.']\n",
      "['Please', 'like', 'share', 'and', 'subscribe']\n"
     ]
    }
   ],
   "source": [
    "for sent in document:\n",
    "    print(word_tokenize(sent))"
   ]
  },
  {
   "cell_type": "code",
   "execution_count": 43,
   "id": "5f410a49-f366-4f04-9307-d1d05e91048b",
   "metadata": {},
   "outputs": [],
   "source": [
    "from nltk.tokenize import wordpunct_tokenize"
   ]
  },
  {
   "cell_type": "code",
   "execution_count": 45,
   "id": "f40d8b81-c182-4e7b-9516-59a0651f46c9",
   "metadata": {},
   "outputs": [
    {
     "data": {
      "text/plain": [
       "['Hello',\n",
       " 'welcome',\n",
       " 'to',\n",
       " 'sanjay',\n",
       " 'fartyal',\n",
       " \"'\",\n",
       " 's',\n",
       " 'youtube',\n",
       " 'channel',\n",
       " '.',\n",
       " 'Here',\n",
       " 'we',\n",
       " 'will',\n",
       " 'learn',\n",
       " 'about',\n",
       " 'devil',\n",
       " '.',\n",
       " 'Please',\n",
       " 'like',\n",
       " 'share',\n",
       " 'and',\n",
       " 'subscribe']"
      ]
     },
     "execution_count": 45,
     "metadata": {},
     "output_type": "execute_result"
    }
   ],
   "source": [
    "wordpunct_tokenize(corpus)"
   ]
  },
  {
   "cell_type": "code",
   "execution_count": 47,
   "id": "bba15cea-b220-4043-8d9b-d44c8d713f6e",
   "metadata": {},
   "outputs": [],
   "source": [
    "from nltk.tokenize import TreebankWordTokenizer"
   ]
  },
  {
   "cell_type": "code",
   "execution_count": 49,
   "id": "4776b508-42cf-4204-be14-4c190109f293",
   "metadata": {},
   "outputs": [],
   "source": [
    "tokenizer= TreebankWordTokenizer()"
   ]
  },
  {
   "cell_type": "code",
   "execution_count": 57,
   "id": "ffd9c7dc-4013-417d-9b6b-3f2506e64966",
   "metadata": {},
   "outputs": [
    {
     "data": {
      "text/plain": [
       "['Hello',\n",
       " 'welcome',\n",
       " 'to',\n",
       " 'sanjay',\n",
       " 'fartyal',\n",
       " \"'s\",\n",
       " 'youtube',\n",
       " 'channel.',\n",
       " 'Here',\n",
       " 'we',\n",
       " 'will',\n",
       " 'learn',\n",
       " 'about',\n",
       " 'devil.',\n",
       " 'Please',\n",
       " 'like',\n",
       " 'share',\n",
       " 'and',\n",
       " 'subscribe',\n",
       " '.']"
      ]
     },
     "execution_count": 57,
     "metadata": {},
     "output_type": "execute_result"
    }
   ],
   "source": [
    "tokenizer.tokenize(corpus)"
   ]
  },
  {
   "cell_type": "markdown",
   "id": "dbcbdee1-9056-46b2-8f8a-13142914b5a1",
   "metadata": {},
   "source": [
    "# Stemming"
   ]
  },
  {
   "cell_type": "markdown",
   "id": "00c1008f-6fe4-49e6-a48c-1d7bb08f77e8",
   "metadata": {},
   "source": [
    "- Stemming is the process of reducing the word to its word stem, that affixes or suffixes or to the root of the word known as llemma.\n",
    "- Like eating eat eaten--> eat and go gone goes --> go"
   ]
  },
  {
   "cell_type": "code",
   "execution_count": 73,
   "id": "145f167c-f96f-4911-87b1-8a1a7058fd10",
   "metadata": {},
   "outputs": [],
   "source": [
    "words=['eating','eaten','eaten','programmming','program','writing','written', 'history']"
   ]
  },
  {
   "cell_type": "code",
   "execution_count": 63,
   "id": "afd446f5-0690-445d-a62c-e1ffe06354e2",
   "metadata": {},
   "outputs": [],
   "source": [
    "from nltk.stem import PorterStemmer"
   ]
  },
  {
   "cell_type": "code",
   "execution_count": 65,
   "id": "a7a6527d-78a8-4ae5-ad11-c7107c529394",
   "metadata": {},
   "outputs": [],
   "source": [
    "stemming=PorterStemmer()"
   ]
  },
  {
   "cell_type": "code",
   "execution_count": 75,
   "id": "b9c96185-8642-4b82-a388-8a93ab0dce20",
   "metadata": {},
   "outputs": [
    {
     "name": "stdout",
     "output_type": "stream",
     "text": [
      "eating---->eat\n",
      "eaten---->eaten\n",
      "eaten---->eaten\n",
      "programmming---->programm\n",
      "program---->program\n",
      "writing---->write\n",
      "written---->written\n",
      "history---->histori\n"
     ]
    }
   ],
   "source": [
    "for word in words:\n",
    "    print(word+'---->'+stemming.stem(word))"
   ]
  },
  {
   "cell_type": "code",
   "execution_count": 77,
   "id": "e32d19e1-d825-4959-bd6f-82853a46474c",
   "metadata": {},
   "outputs": [
    {
     "data": {
      "text/plain": [
       "'congratul'"
      ]
     },
     "execution_count": 77,
     "metadata": {},
     "output_type": "execute_result"
    }
   ],
   "source": [
    "stemming.stem('congratulations')"
   ]
  },
  {
   "cell_type": "code",
   "execution_count": 85,
   "id": "99bf0eb5-2fb4-45fb-9696-8c6687a3d891",
   "metadata": {},
   "outputs": [
    {
     "data": {
      "text/plain": [
       "'modif'"
      ]
     },
     "execution_count": 85,
     "metadata": {},
     "output_type": "execute_result"
    }
   ],
   "source": [
    "stemming.stem('modification')"
   ]
  },
  {
   "cell_type": "markdown",
   "id": "214c3210-9af9-41c1-bb7b-68804cc7c09b",
   "metadata": {},
   "source": [
    "## RegEx stemmer class"
   ]
  },
  {
   "cell_type": "code",
   "execution_count": 96,
   "id": "ecbbe10c-04ee-4a82-b96e-4f2cafb0cd77",
   "metadata": {},
   "outputs": [],
   "source": [
    "from nltk.stem import RegexpStemmer"
   ]
  },
  {
   "cell_type": "code",
   "execution_count": 104,
   "id": "2d7f7d87-0719-480e-9e55-0c5a790e76f3",
   "metadata": {},
   "outputs": [],
   "source": [
    "regex_stem= RegexpStemmer('ing$|s$|s$|able$', min=4)"
   ]
  },
  {
   "cell_type": "code",
   "execution_count": null,
   "id": "9607befe-cf18-4145-8be1-7be4062812ca",
   "metadata": {},
   "outputs": [],
   "source": []
  },
  {
   "cell_type": "code",
   "execution_count": null,
   "id": "e2a5de67-7b28-4d3d-9c3a-8d1660211643",
   "metadata": {},
   "outputs": [],
   "source": []
  },
  {
   "cell_type": "code",
   "execution_count": null,
   "id": "a4c9aaba-5630-4867-92ca-a2b7196b0d30",
   "metadata": {},
   "outputs": [],
   "source": []
  },
  {
   "cell_type": "code",
   "execution_count": null,
   "id": "727b9d9a-aec5-4de0-8e2a-1fe2a3f474da",
   "metadata": {},
   "outputs": [],
   "source": []
  },
  {
   "cell_type": "code",
   "execution_count": null,
   "id": "03c37aa3-d032-403a-a15b-a89cb8c7c6de",
   "metadata": {},
   "outputs": [],
   "source": []
  },
  {
   "cell_type": "code",
   "execution_count": null,
   "id": "62b4c033-d573-4f83-946c-8cddffa96f4e",
   "metadata": {},
   "outputs": [],
   "source": []
  },
  {
   "cell_type": "code",
   "execution_count": null,
   "id": "897840a8-043e-4591-866f-178c3cc0e040",
   "metadata": {},
   "outputs": [],
   "source": []
  },
  {
   "cell_type": "code",
   "execution_count": null,
   "id": "6eabd615-9f5e-49ce-bb8b-ba147c059daf",
   "metadata": {},
   "outputs": [],
   "source": []
  }
 ],
 "metadata": {
  "kernelspec": {
   "display_name": "Python 3 (ipykernel)",
   "language": "python",
   "name": "python3"
  },
  "language_info": {
   "codemirror_mode": {
    "name": "ipython",
    "version": 3
   },
   "file_extension": ".py",
   "mimetype": "text/x-python",
   "name": "python",
   "nbconvert_exporter": "python",
   "pygments_lexer": "ipython3",
   "version": "3.12.4"
  }
 },
 "nbformat": 4,
 "nbformat_minor": 5
}
